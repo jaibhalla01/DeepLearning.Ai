{
 "cells": [
  {
   "cell_type": "markdown",
   "metadata": {},
   "source": [
    "# Deep Q-Learning - Lunar Lander\n",
    "\n",
    "In this assignment, you will train an agent to land a lunar lander safely on a landing pad on the surface of the moon.\n",
    "\n",
    "\n",
    "# Outline\n",
    "- [ 1 - Import Packages <img align=\"Right\" src=\"./images/lunar_lander.gif\" width = 60% >](#1)\n",
    "- [ 2 - Hyperparameters](#2)\n",
    "- [ 3 - The Lunar Lander Environment](#3)\n",
    "  - [ 3.1 Action Space](#3.1)\n",
    "  - [ 3.2 Observation Space](#3.2)\n",
    "  - [ 3.3 Rewards](#3.3)\n",
    "  - [ 3.4 Episode Termination](#3.4)\n",
    "- [ 4 - Load the Environment](#4)\n",
    "- [ 5 - Interacting with the Gym Environment](#5)\n",
    "    - [ 5.1 Exploring the Environment's Dynamics](#5.1)\n",
    "- [ 6 - Deep Q-Learning](#6)\n",
    "  - [ 6.1 Target Network](#6.1)\n",
    "    - [ Exercise 1](#ex01)\n",
    "  - [ 6.2 Experience Replay](#6.2)\n",
    "- [ 7 - Deep Q-Learning Algorithm with Experience Replay](#7)\n",
    "  - [ Exercise 2](#ex02)\n",
    "- [ 8 - Update the Network Weights](#8)\n",
    "- [ 9 - Train the Agent](#9)\n",
    "- [ 10 - See the Trained Agent In Action](#10)\n",
    "- [ 11 - Congratulations!](#11)\n",
    "- [ 12 - References](#12)\n"
   ]
  },
  {
   "cell_type": "markdown",
   "metadata": {},
   "source": [
    "_**NOTE:** To prevent errors from the autograder, you are not allowed to edit or delete non-graded cells in this lab. Please also refrain from adding any new cells. \n",
    "**Once you have passed this assignment** and want to experiment with any of the non-graded code, you may follow the instructions at the bottom of this notebook._"
   ]
  },
  {
   "cell_type": "markdown",
   "metadata": {},
   "source": [
    "<a name=\"1\"></a>\n",
    "## 1 - Import Packages\n",
    "\n",
    "We'll make use of the following packages:\n",
    "- `numpy` is a package for scientific computing in python.\n",
    "- `deque` will be our data structure for our memory buffer.\n",
    "- `namedtuple` will be used to store the experience tuples.\n",
    "- The `gym` toolkit is a collection of environments that can be used to test reinforcement learning algorithms. We should note that in this notebook we are using `gym` version `0.24.0`.\n",
    "- `PIL.Image` and `pyvirtualdisplay` are needed to render the Lunar Lander environment.\n",
    "- We will use several modules from the `tensorflow.keras` framework for building deep learning models.\n",
    "- `utils` is a module that contains helper functions for this assignment. You do not need to modify the code in this file.\n",
    "\n",
    "Run the cell below to import all the necessary packages."
   ]
  },
  {
   "cell_type": "code",
   "execution_count": 1,
   "metadata": {
    "deletable": false,
    "editable": false,
    "id": "KYbOPKRtfQOr"
   },
   "outputs": [],
   "source": [
    "import time\n",
    "from collections import deque, namedtuple\n",
    "\n",
    "import gym\n",
    "import numpy as np\n",
    "import PIL.Image\n",
    "import tensorflow as tf\n",
    "import utils\n",
    "\n",
    "from pyvirtualdisplay import Display\n",
    "from tensorflow.keras import Sequential\n",
    "from tensorflow.keras.layers import Dense, Input\n",
    "from tensorflow.keras.losses import MSE\n",
    "from tensorflow.keras.optimizers import Adam"
   ]
  },
  {
   "cell_type": "code",
   "execution_count": 2,
   "metadata": {
    "deletable": false,
    "editable": false
   },
   "outputs": [],
   "source": [
    "# Set up a virtual display to render the Lunar Lander environment.\n",
    "Display(visible=0, size=(840, 480)).start();\n",
    "\n",
    "# Set the random seed for TensorFlow\n",
    "tf.random.set_seed(utils.SEED)"
   ]
  },
  {
   "cell_type": "markdown",
   "metadata": {},
   "source": [
    "<a name=\"2\"></a>\n",
    "## 2 - Hyperparameters\n",
    "\n",
    "Run the cell below to set the hyperparameters."
   ]
  },
  {
   "cell_type": "code",
   "execution_count": 3,
   "metadata": {
    "deletable": false,
    "editable": false
   },
   "outputs": [],
   "source": [
    "MEMORY_SIZE = 100_000     # size of memory buffer\n",
    "GAMMA = 0.995             # discount factor\n",
    "ALPHA = 1e-3              # learning rate  \n",
    "NUM_STEPS_FOR_UPDATE = 4  # perform a learning update every C time steps"
   ]
  },
  {
   "cell_type": "markdown",
   "metadata": {},
   "source": [
    "<a name=\"3\"></a>\n",
    "## 3 - The Lunar Lander Environment\n",
    "\n",
    "In this notebook we will be using [OpenAI's Gym Library](https://www.gymlibrary.dev/). The Gym library provides a wide variety of environments for reinforcement learning. To put it simply, an environment represents a problem or task to be solved. In this notebook, we will try to solve the Lunar Lander environment using reinforcement learning.\n",
    "\n",
    "The goal of the Lunar Lander environment is to land the lunar lander safely on the landing pad on the surface of the moon. The landing pad is designated by two flag poles and its center is at coordinates `(0,0)` but the lander is also allowed to land outside of the landing pad. The lander starts at the top center of the environment with a random initial force applied to its center of mass and has infinite fuel. The environment is considered solved if you get `200` points. \n",
    "\n",
    "<br>\n",
    "<br>\n",
    "<figure>\n",
    "  <img src = \"images/lunar_lander.gif\" width = 40%>\n",
    "      <figcaption style = \"text-align: center; font-style: italic\">Fig 1. Lunar Lander Environment.</figcaption>\n",
    "</figure>\n",
    "\n",
    "\n",
    "\n",
    "<a name=\"3.1\"></a>\n",
    "### 3.1 Action Space\n",
    "\n",
    "The agent has four discrete actions available:\n",
    "\n",
    "* Do nothing.\n",
    "* Fire right engine.\n",
    "* Fire main engine.\n",
    "* Fire left engine.\n",
    "\n",
    "Each action has a corresponding numerical value:\n",
    "\n",
    "```python\n",
    "Do nothing = 0\n",
    "Fire right engine = 1\n",
    "Fire main engine = 2\n",
    "Fire left engine = 3\n",
    "```\n",
    "\n",
    "<a name=\"3.2\"></a>\n",
    "### 3.2 Observation Space\n",
    "\n",
    "The agent's observation space consists of a state vector with 8 variables:\n",
    "\n",
    "* Its $(x,y)$ coordinates. The landing pad is always at coordinates $(0,0)$.\n",
    "* Its linear velocities $(\\dot x,\\dot y)$.\n",
    "* Its angle $\\theta$.\n",
    "* Its angular velocity $\\dot \\theta$.\n",
    "* Two booleans, $l$ and $r$, that represent whether each leg is in contact with the ground or not.\n",
    "\n",
    "<a name=\"3.3\"></a>\n",
    "### 3.3 Rewards\n",
    "\n",
    "After every step, a reward is granted. The total reward of an episode is the sum of the rewards for all the steps within that episode.\n",
    "\n",
    "For each step, the reward:\n",
    "- is increased/decreased the closer/further the lander is to the landing pad.\n",
    "- is increased/decreased the slower/faster the lander is moving.\n",
    "- is decreased the more the lander is tilted (angle not horizontal).\n",
    "- is increased by 10 points for each leg that is in contact with the ground.\n",
    "- is decreased by 0.03 points each frame a side engine is firing.\n",
    "- is decreased by 0.3 points each frame the main engine is firing.\n",
    "\n",
    "The episode receives an additional reward of -100 or +100 points for crashing or landing safely respectively.\n",
    "\n",
    "<a name=\"3.4\"></a>\n",
    "### 3.4 Episode Termination\n",
    "\n",
    "An episode ends (i.e the environment enters a terminal state) if:\n",
    "\n",
    "* The lunar lander crashes (i.e if the body of the lunar lander comes in contact with the surface of the moon).\n",
    "\n",
    "* The absolute value of the lander's $x$-coordinate is greater than 1 (i.e. it goes beyond the left or right border)\n",
    "\n",
    "You can check out the [Open AI Gym documentation](https://www.gymlibrary.dev/environments/box2d/lunar_lander/) for a full description of the environment. "
   ]
  },
  {
   "cell_type": "markdown",
   "metadata": {},
   "source": [
    "<a name=\"4\"></a>\n",
    "## 4 - Load the Environment\n",
    "\n",
    "We start by loading the `LunarLander-v2` environment from the `gym` library by using the `.make()` method. `LunarLander-v2` is the latest version of the Lunar Lander environment and you can read about its version history in the [Open AI Gym documentation](https://www.gymlibrary.dev/environments/box2d/lunar_lander/#version-history)."
   ]
  },
  {
   "cell_type": "code",
   "execution_count": 4,
   "metadata": {
    "deletable": false,
    "editable": false,
    "id": "ILVMYKewfR0n"
   },
   "outputs": [],
   "source": [
    "env = gym.make('LunarLander-v2')"
   ]
  },
  {
   "cell_type": "markdown",
   "metadata": {},
   "source": [
    "Once we load the environment we use the `.reset()` method to reset the environment to the initial state. The lander starts at the top center of the environment and we can render the first frame of the environment by using the `.render()` method."
   ]
  },
  {
   "cell_type": "code",
   "execution_count": 5,
   "metadata": {
    "deletable": false,
    "editable": false
   },
   "outputs": [
    {
     "data": {
      "image/png": "[encoded data removed]",
      "text/plain": [
       "<PIL.Image.Image image mode=RGB size=600x400 at 0x7FE543900B50>"
      ]
     },
     "execution_count": 5,
     "metadata": {},
     "output_type": "execute_result"
    }
   ],
   "source": [
    "env.reset()\n",
    "PIL.Image.fromarray(env.render(mode='rgb_array'))"
   ]
  },
  {
   "cell_type": "markdown",
   "metadata": {},
   "source": [
    "In order to build our neural network later on we need to know the size of the state vector and the number of valid actions. We can get this information from our environment by using the `.observation_space.shape` and `action_space.n` methods, respectively."
   ]
  },
  {
   "cell_type": "code",
   "execution_count": 6,
   "metadata": {
    "deletable": false,
    "editable": false,
    "id": "x3fdqdG4CUu2"
   },
   "outputs": [
    {
     "name": "stdout",
     "output_type": "stream",
     "text": [
      "State Shape: (8,)\n",
      "Number of actions: 4\n"
     ]
    }
   ],
   "source": [
    "state_size = env.observation_space.shape\n",
    "num_actions = env.action_space.n\n",
    "\n",
    "print('State Shape:', state_size)\n",
    "print('Number of actions:', num_actions)"
   ]
  },
  {
   "cell_type": "markdown",
   "metadata": {},
   "source": [
    "<a name=\"5\"></a>\n",
    "## 5 - Interacting with the Gym Environment\n",
    "\n",
    "The Gym library implements the standard “agent-environment loop” formalism:\n",
    "\n",
    "<br>\n",
    "<center>\n",
    "<video src = \"./videos/rl_formalism.m4v\" width=\"840\" height=\"480\" controls autoplay loop poster=\"./images/rl_formalism.png\"> </video>\n",
    "<figcaption style = \"text-align:center; font-style:italic\">Fig 2. Agent-environment Loop Formalism.</figcaption>\n",
    "</center>\n",
    "<br>\n",
    "\n",
    "In the standard “agent-environment loop” formalism, an agent interacts with the environment in discrete time steps $t=0,1,2,...$. At each time step $t$, the agent uses a policy $\\pi$ to select an action $A_t$ based on its observation of the environment's state $S_t$. The agent receives a numerical reward $R_t$ and on the next time step, moves to a new state $S_{t+1}$.\n",
    "\n",
    "<a name=\"5.1\"></a>\n",
    "### 5.1 Exploring the Environment's Dynamics\n",
    "\n",
    "In Open AI's Gym environments, we use the `.step()` method to run a single time step of the environment's dynamics. In the version of `gym` that we are using the `.step()` method accepts an action and returns four values:\n",
    "\n",
    "* `observation` (**object**): an environment-specific object representing your observation of the environment. In the Lunar Lander environment this corresponds to a numpy array containing the positions and velocities of the lander as described in section [3.2 Observation Space](#3.2).\n",
    "\n",
    "\n",
    "* `reward` (**float**): amount of reward returned as a result of taking the given action. In the Lunar Lander environment this corresponds to a float of type `numpy.float64` as described in section [3.3 Rewards](#3.3).\n",
    "\n",
    "\n",
    "* `done` (**boolean**): When done is `True`, it indicates the episode has terminated and it’s time to reset the environment. \n",
    "\n",
    "\n",
    "* `info` (**dictionary**): diagnostic information useful for debugging. We won't be using this variable in this notebook but it is shown here for completeness.\n",
    "\n",
    "To begin an episode, we need to reset the environment to an initial state. We do this by using the `.reset()` method. "
   ]
  },
  {
   "cell_type": "code",
   "execution_count": 7,
   "metadata": {
    "deletable": false,
    "editable": false
   },
   "outputs": [],
   "source": [
    "# Reset the environment and get the initial state.\n",
    "current_state = env.reset()"
   ]
  },
  {
   "cell_type": "markdown",
   "metadata": {},
   "source": [
    "Once the environment is reset, the agent can start taking actions in the environment by using the `.step()` method. Note that the agent can only take one action per time step. \n",
    "\n",
    "In the cell below you can select different actions and see how the returned values change depending on the action taken. Remember that in this environment the agent has four discrete actions available and we specify them in code by using their corresponding numerical value:\n",
    "\n",
    "```python\n",
    "Do nothing = 0\n",
    "Fire right engine = 1\n",
    "Fire main engine = 2\n",
    "Fire left engine = 3\n",
    "```"
   ]
  },
  {
   "cell_type": "code",
   "execution_count": null,
   "metadata": {
    "deletable": false
   },
   "outputs": [],
   "source": [
    "# Select an action\n",
    "action = 0\n",
    "\n",
    "# Run a single time step of the environment's dynamics with the given action.\n",
    "next_state, reward, done, _ = env.step(action)\n",
    "\n",
    "# Display table with values.\n",
    "utils.display_table(current_state, action, next_state, reward, done)\n",
    "\n",
    "# Replace the `current_state` with the state after the action is taken\n",
    "current_state = next_state"
   ]
  },
  {
   "cell_type": "markdown",
   "metadata": {},
   "source": [
    "In practice, when we train the agent we use a loop to allow the agent to take many consecutive actions during an episode."
   ]
  },
  {
   "cell_type": "markdown",
   "metadata": {},
   "source": [
    "<a name=\"6\"></a>\n",
    "## 6 - Deep Q-Learning\n",
    "\n",
    "In cases where both the state and action space are discrete we can estimate the action-value function iteratively by using the Bellman equation:\n",
    "\n",
    "$$\n",
    "Q_{i+1}(s,a) = R + \\gamma \\max_{a'}Q_i(s',a')\n",
    "$$\n",
    "\n",
    "This iterative method converges to the optimal action-value function $Q^*(s,a)$ as $i\\to\\infty$. This means that the agent just needs to gradually explore the state-action space and keep updating the estimate of $Q(s,a)$ until it converges to the optimal action-value function $Q^*(s,a)$. However, in cases where the state space is continuous it becomes practically impossible to explore the entire state-action space. Consequently, this also makes it practically impossible to gradually estimate $Q(s,a)$ until it converges to $Q^*(s,a)$.\n",
    "\n",
    "In the Deep $Q$-Learning, we solve this problem by using a neural network to estimate the action-value function $Q(s,a)\\approx Q^*(s,a)$. We call this neural network a $Q$-Network and it can be trained by adjusting its weights at each iteration to minimize the mean-squared error in the Bellman equation.\n",
    "\n",
    "Unfortunately, using neural networks in reinforcement learning to estimate action-value functions has proven to be highly unstable. Luckily, there's a couple of techniques that can be employed to avoid instabilities. These techniques consist of using a ***Target Network*** and ***Experience Replay***. We will explore these two techniques in the following sections."
   ]
  },
  {
   "cell_type": "markdown",
   "metadata": {},
   "source": [
    "<a name=\"6.1\"></a>\n",
    "### 6.1 Target Network\n",
    "\n",
    "We can train the $Q$-Network by adjusting it's weights at each iteration to minimize the mean-squared error in the Bellman equation, where the target values are given by:\n",
    "\n",
    "$$\n",
    "y = R + \\gamma \\max_{a'}Q(s',a';w)\n",
    "$$\n",
    "\n",
    "where $w$ are the weights of the $Q$-Network. This means that we are adjusting the weights $w$ at each iteration to minimize the following error:\n",
    "\n",
    "$$\n",
    "\\overbrace{\\underbrace{R + \\gamma \\max_{a'}Q(s',a'; w)}_{\\rm {y~target}} - Q(s,a;w)}^{\\rm {Error}}\n",
    "$$\n",
    "\n",
    "Notice that this forms a problem because the $y$ target is changing on every iteration. Having a constantly moving target can lead to oscillations and instabilities. To avoid this, we can create\n",
    "a separate neural network for generating the $y$ targets. We call this separate neural network the **target $\\hat Q$-Network** and it will have the same architecture as the original $Q$-Network. By using the target $\\hat Q$-Network, the above error becomes:\n",
    "\n",
    "$$\n",
    "\\overbrace{\\underbrace{R + \\gamma \\max_{a'}\\hat{Q}(s',a'; w^-)}_{\\rm {y~target}} - Q(s,a;w)}^{\\rm {Error}}\n",
    "$$\n",
    "\n",
    "where $w^-$ and $w$ are the weights of the target $\\hat Q$-Network and $Q$-Network, respectively.\n",
    "\n",
    "In practice, we will use the following algorithm: every $C$ time steps we will use the $\\hat Q$-Network to generate the $y$ targets and update the weights of the target $\\hat Q$-Network using the weights of the $Q$-Network. We will update the weights $w^-$ of the the target $\\hat Q$-Network using a **soft update**. This means that we will update the weights $w^-$ using the following rule:\n",
    " \n",
    "$$\n",
    "w^-\\leftarrow \\tau w + (1 - \\tau) w^-\n",
    "$$\n",
    "\n",
    "where $\\tau\\ll 1$. By using the soft update, we are ensuring that the target values, $y$, change slowly, which greatly improves the stability of our learning algorithm."
   ]
  },
  {
   "cell_type": "markdown",
   "metadata": {},
   "source": [
    "<a name=\"ex01\"></a>\n",
    "### Exercise 1\n",
    "\n",
    "In this exercise you will create the $Q$ and target $\\hat Q$ networks and set the optimizer. Remember that the Deep $Q$-Network (DQN) is a neural network that approximates the action-value function $Q(s,a)\\approx Q^*(s,a)$. It does this by learning how to map states to $Q$ values.\n",
    "\n",
    "To solve the Lunar Lander environment, we are going to employ a DQN with the following architecture:\n",
    "\n",
    "* An `Input` layer that takes `state_size` as input.\n",
    "\n",
    "* A `Dense` layer with `64` units and a `relu` activation function.\n",
    "\n",
    "* A `Dense` layer with `64` units and a `relu` activation function.\n",
    "\n",
    "* A `Dense` layer with `num_actions` units and a `linear` activation function. This will be the output layer of our network.\n",
    "\n",
    "\n",
    "In the cell below you should create the $Q$-Network and the target $\\hat Q$-Network using the model architecture described above. Remember that both the $Q$-Network and the target $\\hat Q$-Network have the same architecture.\n",
    "\n",
    "Lastly, you should set `Adam` as the optimizer with a learning rate equal to `ALPHA`. Recall that `ALPHA` was defined in the [Hyperparameters](#2) section. We should note that for this exercise you should use the already imported packages:\n",
    "```python\n",
    "from tensorflow.keras.layers import Dense, Input\n",
    "from tensorflow.keras.optimizers import Adam\n",
    "```"
   ]
  },
  {
   "cell_type": "code",
   "execution_count": 22,
   "metadata": {
    "deletable": false
   },
   "outputs": [],
   "source": [
    "# UNQ_C1\n",
    "# GRADED CELL\n",
    "\n",
    "# Create the Q-Network\n",
    "q_network = Sequential([\n",
    "    ### START CODE HERE ### \n",
    "    tf.keras.Input(shape=state_size),\n",
    "    Dense(64, activation = 'relu'),\n",
    "    Dense(64, activation = 'relu'),\n",
    "    Dense(num_actions, activation = 'linear')\n",
    "\n",
    "    \n",
    "    \n",
    "    \n",
    "    ### END CODE HERE ### \n",
    "    ])\n",
    "\n",
    "# Create the target Q^-Network\n",
    "target_q_network = Sequential([\n",
    "    ### START CODE HERE ### \n",
    "    tf.keras.Input(shape=state_size),\n",
    "    Dense(64, activation = 'relu'),\n",
    "    Dense(64, activation = 'relu'),\n",
    "    Dense(num_actions, activation = 'linear')\n",
    "    \n",
    "    \n",
    "    ### END CODE HERE ###\n",
    "    ])\n",
    "\n",
    "### START CODE HERE ### \n",
    "optimizer = Adam(learning_rate=ALPHA)\n",
    "### END CODE HERE ###"
   ]
  },
  {
   "cell_type": "code",
   "execution_count": 23,
   "metadata": {
    "deletable": false,
    "editable": false
   },
   "outputs": [
    {
     "name": "stdout",
     "output_type": "stream",
     "text": [
      "\u001b[92mAll tests passed!\n",
      "\u001b[92mAll tests passed!\n",
      "\u001b[92mAll tests passed!\n"
     ]
    }
   ],
   "source": [
    "# UNIT TEST\n",
    "from public_tests import *\n",
    "\n",
    "test_network(q_network)\n",
    "test_network(target_q_network)\n",
    "test_optimizer(optimizer, ALPHA) "
   ]
  },
  {
   "cell_type": "markdown",
   "metadata": {},
   "source": [
    "<details>\n",
    "  <summary><font size=\"3\" color=\"darkgreen\"><b>Click for hints</b></font></summary>\n",
    "    \n",
    "```python\n",
    "# Create the Q-Network\n",
    "q_network = Sequential([\n",
    "    Input(shape=state_size),                      \n",
    "    Dense(units=64, activation='relu'),            \n",
    "    Dense(units=64, activation='relu'),            \n",
    "    Dense(units=num_actions, activation='linear'),\n",
    "    ])\n",
    "\n",
    "# Create the target Q^-Network\n",
    "target_q_network = Sequential([\n",
    "    Input(shape=state_size),                       \n",
    "    Dense(units=64, activation='relu'),            \n",
    "    Dense(units=64, activation='relu'),            \n",
    "    Dense(units=num_actions, activation='linear'), \n",
    "    ])\n",
    "\n",
    "optimizer = Adam(learning_rate=ALPHA)                                  \n",
    "``` "
   ]
  },
  {
   "cell_type": "markdown",
   "metadata": {},
   "source": [
    "<a name=\"6.2\"></a>\n",
    "### 6.2 Experience Replay\n",
    "\n",
    "When an agent interacts with the environment, the states, actions, and rewards the agent experiences are sequential by nature. If the agent tries to learn from these consecutive experiences it can run into problems due to the strong correlations between them. To avoid this, we employ a technique known as **Experience Replay** to generate uncorrelated experiences for training our agent. Experience replay consists of storing the agent's experiences (i.e the states, actions, and rewards the agent receives) in a memory buffer and then sampling a random mini-batch of experiences from the buffer to do the learning. The experience tuples $(S_t, A_t, R_t, S_{t+1})$ will be added to the memory buffer at each time step as the agent interacts with the environment.\n",
    "\n",
    "For convenience, we will store the experiences as named tuples."
   ]
  },
  {
   "cell_type": "code",
   "execution_count": 24,
   "metadata": {
    "deletable": false,
    "editable": false
   },
   "outputs": [],
   "source": [
    "# Store experiences as named tuples\n",
    "experience = namedtuple(\"Experience\", field_names=[\"state\", \"action\", \"reward\", \"next_state\", \"done\"])"
   ]
  },
  {
   "cell_type": "markdown",
   "metadata": {},
   "source": [
    "By using experience replay we avoid problematic correlations, oscillations and instabilities. In addition, experience replay also allows the agent to potentially use the same experience in multiple weight updates, which increases data efficiency."
   ]
  },
  {
   "cell_type": "markdown",
   "metadata": {},
   "source": [
    "<a name=\"7\"></a>\n",
    "## 7 - Deep Q-Learning Algorithm with Experience Replay\n",
    "\n",
    "Now that we know all the techniques that we are going to use, we can put them together to arrive at the Deep Q-Learning Algorithm With Experience Replay.\n",
    "<br>\n",
    "<br>\n",
    "<figure>\n",
    "  <img src = \"images/deep_q_algorithm.png\" width = 90% style = \"border: thin silver solid; padding: 0px\">\n",
    "      <figcaption style = \"text-align: center; font-style: italic\">Fig 3. Deep Q-Learning with Experience Replay.</figcaption>\n",
    "</figure>"
   ]
  },
  {
   "cell_type": "markdown",
   "metadata": {},
   "source": [
    "<a name=\"ex02\"></a>\n",
    "### Exercise 2\n",
    "\n",
    "In this exercise you will implement line ***12*** of the algorithm outlined in *Fig 3* above and you will also compute the loss between the $y$ targets and the $Q(s,a)$ values. In the cell below, complete the `compute_loss` function by setting the $y$ targets equal to:\n",
    "\n",
    "$$\n",
    "\\begin{equation}\n",
    "    y_j =\n",
    "    \\begin{cases}\n",
    "      R_j & \\text{if episode terminates at step  } j+1\\\\\n",
    "      R_j + \\gamma \\max_{a'}\\hat{Q}(s_{j+1},a') & \\text{otherwise}\\\\\n",
    "    \\end{cases}       \n",
    "\\end{equation}\n",
    "$$\n",
    "\n",
    "Here are a couple of things to note:\n",
    "\n",
    "* The `compute_loss` function takes in a mini-batch of experience tuples. This mini-batch of experience tuples is unpacked to extract the `states`, `actions`, `rewards`, `next_states`, and `done_vals`. You should keep in mind that these variables are *TensorFlow Tensors* whose size will depend on the mini-batch size. For example, if the mini-batch size is `64` then both `rewards` and `done_vals` will be TensorFlow Tensors with `64` elements.\n",
    "\n",
    "\n",
    "* Using `if/else` statements to set the $y$ targets will not work when the variables are tensors with many elements. However, notice that you can use the `done_vals` to implement the above in a single line of code. To do this, recall that the `done` variable is a Boolean variable that takes the value `True` when an episode terminates at step $j+1$ and it is `False` otherwise. Taking into account that a Boolean value of `True` has the numerical value of `1` and a Boolean value of `False` has the numerical value of `0`, you can use the factor `(1 - done_vals)` to implement the above in a single line of code. Here's a hint: notice that `(1 - done_vals)` has a value of `0` when `done_vals` is `True` and a value of `1` when `done_vals` is `False`. \n",
    "\n",
    "Lastly, compute the loss by calculating the Mean-Squared Error (`MSE`) between the `y_targets` and the `q_values`. To calculate the mean-squared error you should use the already imported package `MSE`:\n",
    "```python\n",
    "from tensorflow.keras.losses import MSE\n",
    "```"
   ]
  },
  {
   "cell_type": "code",
   "execution_count": 26,
   "metadata": {
    "deletable": false
   },
   "outputs": [],
   "source": [
    "# UNQ_C2\n",
    "# GRADED FUNCTION: calculate_loss\n",
    "\n",
    "def compute_loss(experiences, gamma, q_network, target_q_network):\n",
    "    \"\"\" \n",
    "    Calculates the loss.\n",
    "    \n",
    "    Args:\n",
    "      experiences: (tuple) tuple of [\"state\", \"action\", \"reward\", \"next_state\", \"done\"] namedtuples\n",
    "      gamma: (float) The discount factor.\n",
    "      q_network: (tf.keras.Sequential) Keras model for predicting the q_values\n",
    "      target_q_network: (tf.keras.Sequential) Keras model for predicting the targets\n",
    "          \n",
    "    Returns:\n",
    "      loss: (TensorFlow Tensor(shape=(0,), dtype=int32)) the Mean-Squared Error between\n",
    "            the y targets and the Q(s,a) values.\n",
    "    \"\"\"\n",
    "\n",
    "    # Unpack the mini-batch of experience tuples\n",
    "    states, actions, rewards, next_states, done_vals = experiences\n",
    "    \n",
    "    # Compute max Q^(s,a)\n",
    "    max_qsa = tf.reduce_max(target_q_network(next_states), axis=-1)\n",
    "    \n",
    "    # Set y = R if episode terminates, otherwise set y = R + γ max Q^(s,a).\n",
    "    ### START CODE HERE ### \n",
    "    y_targets = rewards + (gamma * max_qsa * (1-done_vals))\n",
    "    ### END CODE HERE ###\n",
    "    \n",
    "    # Get the q_values and reshape to match y_targets\n",
    "    q_values = q_network(states)\n",
    "    q_values = tf.gather_nd(q_values, tf.stack([tf.range(q_values.shape[0]),\n",
    "                                                tf.cast(actions, tf.int32)], axis=1))\n",
    "        \n",
    "    # Compute the loss\n",
    "    ### START CODE HERE ### \n",
    "    loss = MSE(y_targets, q_values)\n",
    "    ### END CODE HERE ### \n",
    "    \n",
    "    return loss"
   ]
  },
  {
   "cell_type": "code",
   "execution_count": 27,
   "metadata": {
    "deletable": false,
    "editable": false
   },
   "outputs": [
    {
     "name": "stdout",
     "output_type": "stream",
     "text": [
      "\u001b[92mAll tests passed!\n"
     ]
    }
   ],
   "source": [
    "# UNIT TEST    \n",
    "test_compute_loss(compute_loss)"
   ]
  },
  {
   "cell_type": "markdown",
   "metadata": {},
   "source": [
    "<details>\n",
    "  <summary><font size=\"3\" color=\"darkgreen\"><b>Click for hints</b></font></summary>\n",
    "    \n",
    "```python\n",
    "def compute_loss(experiences, gamma, q_network, target_q_network):\n",
    "    \"\"\" \n",
    "    Calculates the loss.\n",
    "    \n",
    "    Args:\n",
    "      experiences: (tuple) tuple of [\"state\", \"action\", \"reward\", \"next_state\", \"done\"] namedtuples\n",
    "      gamma: (float) The discount factor.\n",
    "      q_network: (tf.keras.Sequential) Keras model for predicting the q_values\n",
    "      target_q_network: (tf.keras.Sequential) Keras model for predicting the targets\n",
    "          \n",
    "    Returns:\n",
    "      loss: (TensorFlow Tensor(shape=(0,), dtype=int32)) the Mean-Squared Error between\n",
    "            the y targets and the Q(s,a) values.\n",
    "    \"\"\"\n",
    "\n",
    "    \n",
    "    # Unpack the mini-batch of experience tuples\n",
    "    states, actions, rewards, next_states, done_vals = experiences\n",
    "    \n",
    "    # Compute max Q^(s,a)\n",
    "    max_qsa = tf.reduce_max(target_q_network(next_states), axis=-1)\n",
    "    \n",
    "    # Set y = R if episode terminates, otherwise set y = R + γ max Q^(s,a).\n",
    "    y_targets = rewards + (gamma * max_qsa * (1 - done_vals))\n",
    "    \n",
    "    # Get the q_values\n",
    "    q_values = q_network(states)\n",
    "    q_values = tf.gather_nd(q_values, tf.stack([tf.range(q_values.shape[0]),\n",
    "                                                tf.cast(actions, tf.int32)], axis=1))\n",
    "    \n",
    "    # Calculate the loss\n",
    "    loss = MSE(y_targets, q_values)\n",
    "    \n",
    "    return loss\n",
    "\n",
    "``` \n",
    "    "
   ]
  },
  {
   "cell_type": "markdown",
   "metadata": {},
   "source": [
    "<a name=\"8\"></a>\n",
    "## 8 - Update the Network Weights\n",
    "\n",
    "We will use the `agent_learn` function below to implement lines ***12 -14*** of the algorithm outlined in [Fig 3](#7). The `agent_learn` function will update the weights of the $Q$ and target $\\hat Q$ networks using a custom training loop. Because we are using a custom training loop we need to retrieve the gradients via a `tf.GradientTape` instance, and then call `optimizer.apply_gradients()` to update the weights of our $Q$-Network. Note that we are also using the `@tf.function` decorator to increase performance. Without this decorator our training will take twice as long. If you would like to know more about how to increase performance with `@tf.function` take a look at the [TensorFlow documentation](https://www.tensorflow.org/guide/function).\n",
    "\n",
    "The last line of this function updates the weights of the target $\\hat Q$-Network using a [soft update](#6.1). If you want to know how this is implemented in code we encourage you to take a look at the `utils.update_target_network` function in the `utils` module."
   ]
  },
  {
   "cell_type": "code",
   "execution_count": 28,
   "metadata": {
    "deletable": false,
    "editable": false
   },
   "outputs": [],
   "source": [
    "@tf.function\n",
    "def agent_learn(experiences, gamma):\n",
    "    \"\"\"\n",
    "    Updates the weights of the Q networks.\n",
    "    \n",
    "    Args:\n",
    "      experiences: (tuple) tuple of [\"state\", \"action\", \"reward\", \"next_state\", \"done\"] namedtuples\n",
    "      gamma: (float) The discount factor.\n",
    "    \n",
    "    \"\"\"\n",
    "    \n",
    "    # Calculate the loss\n",
    "    with tf.GradientTape() as tape:\n",
    "        loss = compute_loss(experiences, gamma, q_network, target_q_network)\n",
    "\n",
    "    # Get the gradients of the loss with respect to the weights.\n",
    "    gradients = tape.gradient(loss, q_network.trainable_variables)\n",
    "    \n",
    "    # Update the weights of the q_network.\n",
    "    optimizer.apply_gradients(zip(gradients, q_network.trainable_variables))\n",
    "\n",
    "    # update the weights of target q_network\n",
    "    utils.update_target_network(q_network, target_q_network)"
   ]
  },
  {
   "cell_type": "markdown",
   "metadata": {},
   "source": [
    "<a name=\"9\"></a>\n",
    "## 9 - Train the Agent\n",
    "\n",
    "We are now ready to train our agent to solve the Lunar Lander environment. In the cell below we will implement the algorithm in [Fig 3](#7) line by line (please note that we have included the same algorithm below for easy reference. This will prevent you from scrolling up and down the notebook):\n",
    "\n",
    "* **Line 1**: We initialize the `memory_buffer` with a capacity of $N =$ `MEMORY_SIZE`. Notice that we are using a `deque` as the data structure for our `memory_buffer`.\n",
    "\n",
    "\n",
    "* **Line 2**: We skip this line since we already initialized the `q_network` in [Exercise 1](#ex01).\n",
    "\n",
    "\n",
    "* **Line 3**: We initialize the `target_q_network` by setting its weights to be equal to those of the `q_network`.\n",
    "\n",
    "\n",
    "* **Line 4**: We start the outer loop. Notice that we have set $M =$ `num_episodes = 2000`. This number is reasonable because the agent should be able to solve the Lunar Lander environment in less than `2000` episodes using this notebook's default parameters.\n",
    "\n",
    "\n",
    "* **Line 5**: We use the `.reset()` method to reset the environment to the initial state and get the initial state.\n",
    "\n",
    "\n",
    "* **Line 6**: We start the inner loop. Notice that we have set $T =$ `max_num_timesteps = 1000`. This means that the episode will automatically terminate if the episode hasn't terminated after `1000` time steps.\n",
    "\n",
    "\n",
    "* **Line 7**: The agent observes the current `state` and chooses an `action` using an $\\epsilon$-greedy policy. Our agent starts out using a value of $\\epsilon =$ `epsilon = 1` which yields an $\\epsilon$-greedy policy that is equivalent to the equiprobable random policy. This means that at the beginning of our training, the agent is just going to take random actions regardless of the observed `state`. As training progresses we will decrease the value of $\\epsilon$ slowly towards a minimum value using a given $\\epsilon$-decay rate. We want this minimum value to be close to zero because a value of $\\epsilon = 0$ will yield an $\\epsilon$-greedy policy that is equivalent to the greedy policy. This means that towards the end of training, the agent will lean towards selecting the `action` that it believes (based on its past experiences) will maximize $Q(s,a)$. We will set the minimum $\\epsilon$ value to be `0.01` and not exactly 0 because we always want to keep a little bit of exploration during training. If you want to know how this is implemented in code we encourage you to take a look at the `utils.get_action` function in the `utils` module.\n",
    "\n",
    "\n",
    "* **Line 8**: We use the `.step()` method to take the given `action` in the environment and get the `reward` and the `next_state`. \n",
    "\n",
    "\n",
    "* **Line 9**: We store the `experience(state, action, reward, next_state, done)` tuple in our `memory_buffer`. Notice that we also store the `done` variable so that we can keep track of when an episode terminates. This allowed us to set the $y$ targets in [Exercise 2](#ex02).\n",
    "\n",
    "\n",
    "* **Line 10**: We check if the conditions are met to perform a learning update. We do this by using our custom `utils.check_update_conditions` function. This function checks if $C =$ `NUM_STEPS_FOR_UPDATE = 4` time steps have occured and if our `memory_buffer` has enough experience tuples to fill a mini-batch. For example, if the mini-batch size is `64`, then our `memory_buffer` should have more than `64` experience tuples in order to pass the latter condition. If the conditions are met, then the `utils.check_update_conditions` function will return a value of `True`, otherwise it will return a value of `False`.\n",
    "\n",
    "\n",
    "* **Lines 11 - 14**: If the `update` variable is `True` then we perform a learning update. The learning update consists of sampling a random mini-batch of experience tuples from our `memory_buffer`, setting the $y$ targets, performing gradient descent, and updating the weights of the networks. We will use the `agent_learn` function we defined in [Section 8](#8) to perform the latter 3.\n",
    "\n",
    "\n",
    "* **Line 15**: At the end of each iteration of the inner loop we set `next_state` as our new `state` so that the loop can start again from this new state. In addition, we check if the episode has reached a terminal state (i.e we check if `done = True`). If a terminal state has been reached, then we break out of the inner loop.\n",
    "\n",
    "\n",
    "* **Line 16**: At the end of each iteration of the outer loop we update the value of $\\epsilon$, and check if the environment has been solved. We consider that the environment has been solved if the agent receives an average of `200` points in the last `100` episodes. If the environment has not been solved we continue the outer loop and start a new episode.\n",
    "\n",
    "Finally, we wanted to note that we have included some extra variables to keep track of the total number of points the agent received in each episode. This will help us determine if the agent has solved the environment and it will also allow us to see how our agent performed during training. We also use the `time` module to measure how long the training takes. \n",
    "\n",
    "<br>\n",
    "<br>\n",
    "<figure>\n",
    "  <img src = \"images/deep_q_algorithm.png\" width = 90% style = \"border: thin silver solid; padding: 0px\">\n",
    "      <figcaption style = \"text-align: center; font-style: italic\">Fig 4. Deep Q-Learning with Experience Replay.</figcaption>\n",
    "</figure>\n",
    "<br>\n",
    "\n",
    "**Note:** With this notebook's default parameters, the following cell takes between 10 to 15 minutes to run. "
   ]
  },
  {
   "cell_type": "code",
   "execution_count": 29,
   "metadata": {
    "deletable": false,
    "editable": false
   },
   "outputs": [
    {
     "name": "stdout",
     "output_type": "stream",
     "text": [
      "Episode 100 | Total point average of the last 100 episodes: -145.65\n",
      "Episode 200 | Total point average of the last 100 episodes: -97.183\n",
      "Episode 300 | Total point average of the last 100 episodes: -44.87\n",
      "Episode 400 | Total point average of the last 100 episodes: 16.146\n",
      "Episode 500 | Total point average of the last 100 episodes: 107.61\n",
      "Episode 600 | Total point average of the last 100 episodes: 130.66\n",
      "Episode 700 | Total point average of the last 100 episodes: 152.59\n",
      "Episode 782 | Total point average of the last 100 episodes: 200.03\n",
      "\n",
      "Environment solved in 782 episodes!\n",
      "\n",
      "Total Runtime: 1082.01 s (18.03 min)\n"
     ]
    }
   ],
   "source": [
    "start = time.time()\n",
    "\n",
    "num_episodes = 2000\n",
    "max_num_timesteps = 1000\n",
    "\n",
    "total_point_history = []\n",
    "\n",
    "num_p_av = 100    # number of total points to use for averaging\n",
    "epsilon = 1.0     # initial ε value for ε-greedy policy\n",
    "\n",
    "# Create a memory buffer D with capacity N\n",
    "memory_buffer = deque(maxlen=MEMORY_SIZE)\n",
    "\n",
    "# Set the target network weights equal to the Q-Network weights\n",
    "target_q_network.set_weights(q_network.get_weights())\n",
    "\n",
    "for i in range(num_episodes):\n",
    "    \n",
    "    # Reset the environment to the initial state and get the initial state\n",
    "    state = env.reset()\n",
    "    total_points = 0\n",
    "    \n",
    "    for t in range(max_num_timesteps):\n",
    "        \n",
    "        # From the current state S choose an action A using an ε-greedy policy\n",
    "        state_qn = np.expand_dims(state, axis=0)  # state needs to be the right shape for the q_network\n",
    "        q_values = q_network(state_qn)\n",
    "        action = utils.get_action(q_values, epsilon)\n",
    "        \n",
    "        # Take action A and receive reward R and the next state S'\n",
    "        next_state, reward, done, _ = env.step(action)\n",
    "        \n",
    "        # Store experience tuple (S,A,R,S') in the memory buffer.\n",
    "        # We store the done variable as well for convenience.\n",
    "        memory_buffer.append(experience(state, action, reward, next_state, done))\n",
    "        \n",
    "        # Only update the network every NUM_STEPS_FOR_UPDATE time steps.\n",
    "        update = utils.check_update_conditions(t, NUM_STEPS_FOR_UPDATE, memory_buffer)\n",
    "        \n",
    "        if update:\n",
    "            # Sample random mini-batch of experience tuples (S,A,R,S') from D\n",
    "            experiences = utils.get_experiences(memory_buffer)\n",
    "            \n",
    "            # Set the y targets, perform a gradient descent step,\n",
    "            # and update the network weights.\n",
    "            agent_learn(experiences, GAMMA)\n",
    "        \n",
    "        state = next_state.copy()\n",
    "        total_points += reward\n",
    "        \n",
    "        if done:\n",
    "            break\n",
    "            \n",
    "    total_point_history.append(total_points)\n",
    "    av_latest_points = np.mean(total_point_history[-num_p_av:])\n",
    "    \n",
    "    # Update the ε value\n",
    "    epsilon = utils.get_new_eps(epsilon)\n",
    "\n",
    "    print(f\"\\rEpisode {i+1} | Total point average of the last {num_p_av} episodes: {av_latest_points:.2f}\", end=\"\")\n",
    "\n",
    "    if (i+1) % num_p_av == 0:\n",
    "        print(f\"\\rEpisode {i+1} | Total point average of the last {num_p_av} episodes: {av_latest_points:.2f}\")\n",
    "\n",
    "    # We will consider that the environment is solved if we get an\n",
    "    # average of 200 points in the last 100 episodes.\n",
    "    if av_latest_points >= 200.0:\n",
    "        print(f\"\\n\\nEnvironment solved in {i+1} episodes!\")\n",
    "        q_network.save('lunar_lander_model.h5')\n",
    "        break\n",
    "        \n",
    "tot_time = time.time() - start\n",
    "\n",
    "print(f\"\\nTotal Runtime: {tot_time:.2f} s ({(tot_time/60):.2f} min)\")"
   ]
  },
  {
   "cell_type": "markdown",
   "metadata": {},
   "source": [
    "We can plot the total point history along with the moving average to see how our agent improved during training. If you want to know about the different plotting options available in the `utils.plot_history` function we encourage you to take a look at the `utils` module."
   ]
  },
  {
   "cell_type": "code",
   "execution_count": 30,
   "metadata": {
    "deletable": false,
    "editable": false,
    "id": "E_EUXxurfe8m",
    "scrolled": false
   },
   "outputs": [
    {
     "data": {
      "image/png": "[encoded data removed]",
      "text/plain": [
       "<Figure size 720x504 with 1 Axes>"
      ]
     },
     "metadata": {},
     "output_type": "display_data"
    }
   ],
   "source": [
    "# Plot the total point history along with the moving average\n",
    "utils.plot_history(total_point_history)"
   ]
  },
  {
   "cell_type": "markdown",
   "metadata": {
    "id": "c_xwgaX5MnYt"
   },
   "source": [
    "<a name=\"10\"></a>\n",
    "## 10 - See the Trained Agent In Action\n",
    "\n",
    "Now that we have trained our agent, we can see it in action. We will use the `utils.create_video` function to create a video of our agent interacting with the environment using the trained $Q$-Network. The `utils.create_video` function uses the `imageio` library to create the video. This library produces some warnings that can be distracting, so, to suppress these warnings we run the code below."
   ]
  },
  {
   "cell_type": "code",
   "execution_count": 31,
   "metadata": {
    "deletable": false,
    "editable": false
   },
   "outputs": [],
   "source": [
    "# Suppress warnings from imageio\n",
    "import logging\n",
    "logging.getLogger().setLevel(logging.ERROR)"
   ]
  },
  {
   "cell_type": "markdown",
   "metadata": {},
   "source": [
    "In the cell below we create a video of our agent interacting with the Lunar Lander environment using the trained `q_network`. The video is saved to the `videos` folder with the given `filename`. We use the `utils.embed_mp4` function to embed the video in the Jupyter Notebook so that we can see it here directly without having to download it.\n",
    "\n",
    "We should note that since the lunar lander starts with a random initial force applied to its center of mass, every time you run the cell below you will see a different video. If the agent was trained properly, it should be able to land the lunar lander in the landing pad every time, regardless of the initial force applied to its center of mass."
   ]
  },
  {
   "cell_type": "code",
   "execution_count": 32,
   "metadata": {
    "deletable": false,
    "editable": false,
    "id": "3Ttb_zLeJKiG"
   },
   "outputs": [
    {
     "data": {
      "text/html": [
       "\n",
       "    <video width=\"840\" height=\"480\" controls>\n",
       "    <source src=\"data:video/mp4;base64,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\" type=\"video/mp4\">\n",
       "    Your browser does not support the video tag.\n",
       "    </video>"
      ],
      "text/plain": [
       "<IPython.core.display.HTML object>"
      ]
     },
     "execution_count": 32,
     "metadata": {},
     "output_type": "execute_result"
    }
   ],
   "source": [
    "filename = \"./videos/lunar_lander.mp4\"\n",
    "\n",
    "utils.create_video(filename, env, q_network)\n",
    "utils.embed_mp4(filename)"
   ]
  },
  {
   "cell_type": "markdown",
   "metadata": {},
   "source": [
    "<a name=\"11\"></a>\n",
    "## 11 - Congratulations!\n",
    "\n",
    "You have successfully used Deep Q-Learning with Experience Replay to train an agent to land a lunar lander safely on a landing pad on the surface of the moon. Congratulations!"
   ]
  },
  {
   "cell_type": "markdown",
   "metadata": {},
   "source": [
    "<a name=\"12\"></a>\n",
    "## 12 - References\n",
    "\n",
    "If you would like to learn more about Deep Q-Learning, we recommend you check out the following papers.\n",
    "\n",
    "\n",
    "* Mnih, V., Kavukcuoglu, K., Silver, D. et al. Human-level control through deep reinforcement learning. Nature 518, 529–533 (2015).\n",
    "\n",
    "\n",
    "* Lillicrap, T. P., Hunt, J. J., Pritzel, A., et al. Continuous Control with Deep Reinforcement Learning. ICLR (2016).\n",
    "\n",
    "\n",
    "* Mnih, V., Kavukcuoglu, K., Silver, D. et al. Playing Atari with Deep Reinforcement Learning. arXiv e-prints.  arXiv:1312.5602 (2013)."
   ]
  },
  {
   "cell_type": "markdown",
   "metadata": {},
   "source": [
    "<details>\n",
    "  <summary><font size=\"2\" color=\"darkgreen\"><b>Please click here if you want to experiment with any of the non-graded code.</b></font></summary>\n",
    "    <p><i><b>Important Note: Please only do this when you've already passed the assignment to avoid problems with the autograder.</b></i>\n",
    "    <ol>\n",
    "        <li> On the notebook’s menu, click “View” > “Cell Toolbar” > “Edit Metadata”</li>\n",
    "        <li> Hit the “Edit Metadata” button next to the code cell which you want to lock/unlock</li>\n",
    "        <li> Set the attribute value for “editable” to:\n",
    "            <ul>\n",
    "                <li> “true” if you want to unlock it </li>\n",
    "                <li> “false” if you want to lock it </li>\n",
    "            </ul>\n",
    "        </li>\n",
    "        <li> On the notebook’s menu, click “View” > “Cell Toolbar” > “None” </li>\n",
    "    </ol>\n",
    "    <p> Here's a short demo of how to do the steps above: \n",
    "        <br>\n",
    "        <img src=\"https://lh3.google.com/u/0/d/14Xy_Mb17CZVgzVAgq7NCjMVBvSae3xO1\" align=\"center\" alt=\"unlock_cells.gif\">\n",
    "</details>"
   ]
  }
 ],
 "metadata": {
  "accelerator": "GPU",
  "colab": {
   "collapsed_sections": [],
   "name": "TensorFlow - Lunar Lander.ipynb",
   "provenance": []
  },
  "kernelspec": {
   "display_name": "Python 3",
   "language": "python",
   "name": "python3"
  },
  "language_info": {
   "codemirror_mode": {
    "name": "ipython",
    "version": 3
   },
   "file_extension": ".py",
   "mimetype": "text/x-python",
   "name": "python",
   "nbconvert_exporter": "python",
   "pygments_lexer": "ipython3",
   "version": "3.7.6"
  }
 },
 "nbformat": 4,
 "nbformat_minor": 1
}
